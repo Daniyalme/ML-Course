{
 "cells": [
  {
   "cell_type": "markdown",
   "metadata": {},
   "source": [
    "# Football Match Result Prediction Using Gaussian NB\n",
    "### Daniyal Mehraeen"
   ]
  },
  {
   "cell_type": "markdown",
   "metadata": {},
   "source": [
    "### Part a)"
   ]
  },
  {
   "cell_type": "code",
   "execution_count": null,
   "metadata": {},
   "outputs": [],
   "source": [
    "import pandas as pd\n",
    "import numpy as np\n",
    "from datetime import datetime\n",
    "\n",
    "pd.plotting.register_matplotlib_converters()\n",
    "import matplotlib.pyplot as plt\n",
    "import seaborn as sns\n",
    "%matplotlib inline\n",
    "\n",
    "from sklearn.naive_bayes import GaussianNB\n",
    "from sklearn.linear_model import LogisticRegression\n",
    "from sklearn.preprocessing import OneHotEncoder\n",
    "from sklearn.naive_bayes import BernoulliNB\n",
    "from sklearn.preprocessing import LabelBinarizer\n",
    "from sklearn.multiclass import OneVsRestClassifier\n",
    "from sklearn.naive_bayes import MultinomialNB\n",
    "\n",
    "from sklearn.model_selection import train_test_split\n",
    "from sklearn.metrics import accuracy_score, precision_score, recall_score, f1_score"
   ]
  },
  {
   "cell_type": "code",
   "execution_count": null,
   "metadata": {},
   "outputs": [],
   "source": [
    "teams = pd.read_csv(\"./Team.csv\", index_col=0)\n",
    "team_attributes = pd.read_csv(\"./Team_Attributes.csv\", index_col=0)\n",
    "matches = pd.read_csv(\"./match.csv\", index_col=0)\n",
    "players = pd.read_csv(\"./player.csv\", index_col=0)\n",
    "player_attributes = pd.read_csv(\"./player_Attributes.csv\", index_col=0)"
   ]
  },
  {
   "cell_type": "code",
   "execution_count": null,
   "metadata": {},
   "outputs": [],
   "source": [
    "teams.head()"
   ]
  },
  {
   "cell_type": "code",
   "execution_count": null,
   "metadata": {},
   "outputs": [],
   "source": [
    "team_attributes.head()"
   ]
  },
  {
   "cell_type": "code",
   "execution_count": null,
   "metadata": {},
   "outputs": [],
   "source": [
    "matches.head()"
   ]
  },
  {
   "cell_type": "code",
   "execution_count": null,
   "metadata": {},
   "outputs": [],
   "source": [
    "players.head()"
   ]
  },
  {
   "cell_type": "code",
   "execution_count": null,
   "metadata": {},
   "outputs": [],
   "source": [
    "player_attributes.head()"
   ]
  },
  {
   "cell_type": "code",
   "execution_count": null,
   "metadata": {},
   "outputs": [],
   "source": [
    "matches.insert(0, \"match_result\", None)"
   ]
  },
  {
   "cell_type": "code",
   "execution_count": null,
   "metadata": {},
   "outputs": [],
   "source": [
    "matches.loc[matches[\"home_team_goal\"] > matches[\"away_team_goal\"],\"match_result\"] = \"Win\"\n",
    "matches.loc[matches[\"home_team_goal\"] == matches[\"away_team_goal\"],\"match_result\"] = \"Draw\"\n",
    "matches.loc[matches[\"home_team_goal\"] < matches[\"away_team_goal\"],\"match_result\"] = \"Lose\""
   ]
  },
  {
   "cell_type": "code",
   "execution_count": null,
   "metadata": {},
   "outputs": [],
   "source": [
    "matches.head()"
   ]
  },
  {
   "cell_type": "markdown",
   "metadata": {},
   "source": [
    "### Part b)"
   ]
  },
  {
   "cell_type": "markdown",
   "metadata": {},
   "source": [
    "#### Preprocessing the data"
   ]
  },
  {
   "cell_type": "code",
   "execution_count": null,
   "metadata": {},
   "outputs": [],
   "source": [
    "# Convrting Dates in all tables into seconds from 1970/1/1\n",
    "\n",
    "time_origin = datetime(1970, 1, 1)\n",
    "\n",
    "player_attributes[\"date\"] = player_attributes.apply(lambda row: (datetime.strptime(row[\"date\"], \"%Y-%m-%d %H:%M:%S\") - time_origin).days, axis=1, result_type='expand')\n",
    "\n",
    "matches[\"date\"] = matches.apply(lambda row: (datetime.strptime(row[\"date\"], \"%Y-%m-%d %H:%M:%S\") - time_origin).days, axis=1, result_type='expand')\n",
    "\n",
    "players[\"birthday\"] = players.apply(lambda row: (datetime.strptime(row[\"birthday\"], \"%Y-%m-%d %H:%M:%S\") - time_origin).days, axis=1, result_type='expand')\n",
    "\n",
    "team_attributes[\"date\"] = team_attributes.apply(lambda row: (datetime.strptime(row[\"date\"], \"%Y-%m-%d %H:%M:%S\") - time_origin).days, axis=1, result_type='expand')"
   ]
  },
  {
   "cell_type": "code",
   "execution_count": null,
   "metadata": {},
   "outputs": [],
   "source": [
    "(player_attributes.isna().sum()*100) / player_attributes.count()"
   ]
  },
  {
   "cell_type": "code",
   "execution_count": null,
   "metadata": {},
   "outputs": [],
   "source": [
    "player_attributes.drop(columns=[\"attacking_work_rate\"], inplace=True)"
   ]
  },
  {
   "cell_type": "code",
   "execution_count": null,
   "metadata": {},
   "outputs": [],
   "source": [
    "numerical_columns = player_attributes.select_dtypes(include=[float, int]).columns\n",
    "player_attributes[numerical_columns] = player_attributes[numerical_columns].fillna(player_attributes[numerical_columns].mean())"
   ]
  },
  {
   "cell_type": "code",
   "execution_count": null,
   "metadata": {},
   "outputs": [],
   "source": [
    "print(team_attributes[team_attributes[\"buildUpPlayDribbling\"].isna()][\"buildUpPlayDribblingClass\"].value_counts())\n",
    "print()\n",
    "print(team_attributes[\"buildUpPlayDribblingClass\"].value_counts())\n",
    "\n",
    "mean_values = team_attributes.groupby(\"buildUpPlayDribblingClass\")[\"buildUpPlayDribbling\"].mean()\n",
    "team_attributes.fillna(mean_values[\"Little\"], inplace=True)"
   ]
  },
  {
   "cell_type": "code",
   "execution_count": null,
   "metadata": {},
   "outputs": [],
   "source": [
    "matches.isna().sum()"
   ]
  },
  {
   "cell_type": "code",
   "execution_count": null,
   "metadata": {},
   "outputs": [],
   "source": [
    "data = matches.copy()"
   ]
  },
  {
   "cell_type": "markdown",
   "metadata": {},
   "source": [
    "Adding the nearest data available for each team to each of their matches"
   ]
  },
  {
   "cell_type": "code",
   "execution_count": null,
   "metadata": {},
   "outputs": [],
   "source": [
    "def get_latest_team_rating(team_id, date):\n",
    "    team_ratings =  team_attributes[team_attributes[\"team_api_id\"] == team_id]\n",
    "    return team_ratings.loc[np.abs(team_ratings[\"date\"] - date).idxmin()]\n",
    "\n",
    "# Initializing the List of new columns name\n",
    "home_team_columns_to_edit  = []\n",
    "away_team_columns_to_edit  = []\n",
    "\n",
    "# Initializing the position of insert\n",
    "insert_position = list(data.columns).index(\"home_team_api_id\") + 1\n",
    "\n",
    "# Inserting the home team attributes columns to the dataframe\n",
    "for idx, col in enumerate(team_attributes.columns):\n",
    "    col_name = \"home_team_\" + col\n",
    "    data.insert(insert_position + idx, col_name, None)\n",
    "    home_team_columns_to_edit.append(col_name)\n",
    "\n",
    "# Initializing the position of insert\n",
    "insert_position = list(data.columns).index(\"away_team_api_id\") + 1\n",
    "\n",
    "# Inserting the away team attributes columns to the dataframe\n",
    "for idx, col in enumerate(team_attributes.columns):\n",
    "    col_name = \"away_team_\" + col\n",
    "    data.insert(insert_position + idx, col_name, None)\n",
    "    away_team_columns_to_edit.append(col_name)\n",
    "\n",
    "\n",
    "# Applying the get_latest_team_rating function to new home & away team columns for all rows\n",
    "data[home_team_columns_to_edit] = data.apply(lambda row: get_latest_team_rating(team_id=row[\"home_team_api_id\"], date=row[\"date\"]), axis=1, result_type='expand')\n",
    "data[away_team_columns_to_edit] = data.apply(lambda row: get_latest_team_rating(team_id=row[\"away_team_api_id\"], date=row[\"date\"]), axis=1, result_type='expand')\n"
   ]
  },
  {
   "cell_type": "markdown",
   "metadata": {},
   "source": [
    "Adding the nearest data available of each player for each match "
   ]
  },
  {
   "cell_type": "code",
   "execution_count": null,
   "metadata": {},
   "outputs": [],
   "source": [
    "# Merging player table with player_attributes table\n",
    "player_attributes =  player_attributes.merge(players.drop(\"id\", axis=1), on=[\"player_api_id\", \"player_fifa_api_id\"], how=\"inner\")"
   ]
  },
  {
   "cell_type": "code",
   "execution_count": null,
   "metadata": {},
   "outputs": [],
   "source": [
    "player_attributes.head()"
   ]
  },
  {
   "cell_type": "code",
   "execution_count": null,
   "metadata": {},
   "outputs": [],
   "source": [
    "# Adding the player stats of home teams\n",
    "num_team_players = 11\n",
    "\n",
    "for i in range(num_team_players):\n",
    "    \n",
    "    # Genearting the key column for merging datasets\n",
    "    column_name = f\"home_player_{i+1}\"\n",
    "\n",
    "    # Craeting a rename dictionary for the merged datasets\n",
    "    renamed_col_dict = {}\n",
    "\n",
    "    for col in player_attributes.columns:\n",
    "        if col != \"date\":\n",
    "            renamed_col_dict[col] = f\"home_player_{i+1}_{col}\"\n",
    "        else:\n",
    "            renamed_col_dict[\"date_y\"] = f\"home_player_{i+1}_{col}\"\n",
    "            renamed_col_dict[\"date_x\"] = \"date\"\n",
    "\n",
    "    columns_to_edit = [ f\"home_player_{i+1}_\" + col for col in player_attributes.columns ]\n",
    "    \n",
    "    # Join the DataFrames for each related column in data\n",
    "    data = pd.merge(data, player_attributes, left_on=column_name, right_on='player_api_id', how='inner').rename(columns=renamed_col_dict)\n",
    "\n",
    "    data[\"threshold\"] = (np.abs(data[\"date\"] - data[f\"home_player_{i+1}_date\"]))\n",
    "\n",
    "    data = data.loc[data.groupby(\"match_id\")[\"threshold\"].idxmin()]\n",
    "\n",
    "data.head()\n"
   ]
  },
  {
   "cell_type": "code",
   "execution_count": null,
   "metadata": {},
   "outputs": [],
   "source": [
    "# Adding player stats of away teams\n",
    "num_team_players = 11\n",
    "\n",
    "for i in range(num_team_players):\n",
    "    \n",
    "    # Genearting the key column for merging datasets\n",
    "    column_name = f\"away_player_{i+1}\"\n",
    "\n",
    "    # Craeting a rename dictionary for the merged datasets\n",
    "    renamed_col_dict = {}\n",
    "\n",
    "    for col in player_attributes.columns:\n",
    "        if col != \"date\":\n",
    "            renamed_col_dict[col] = f\"away_player_{i+1}_{col}\"\n",
    "        else:\n",
    "            renamed_col_dict[\"date_y\"] = f\"away_player_{i+1}_{col}\"\n",
    "            renamed_col_dict[\"date_x\"] = \"date\"\n",
    "\n",
    "    columns_to_edit = [ f\"away_player_{i+1}_\" + col for col in player_attributes.columns ]\n",
    "    \n",
    "    # Join the DataFrames for each related column in data\n",
    "    data = pd.merge(data, player_attributes, left_on=column_name, right_on='player_api_id', how='inner').rename(columns=renamed_col_dict)\n",
    "\n",
    "    data[\"threshold\"] = (np.abs(data[\"date\"] - data[f\"away_player_{i+1}_date\"]))\n",
    "\n",
    "    data = data.loc[data.groupby(\"match_id\")[\"threshold\"].idxmin()]\n",
    "\n",
    "\n",
    "data.head()\n"
   ]
  },
  {
   "cell_type": "markdown",
   "metadata": {},
   "source": [
    "Removing all non-sense columns like IDs Names and extra Dates"
   ]
  },
  {
   "cell_type": "code",
   "execution_count": null,
   "metadata": {},
   "outputs": [],
   "source": [
    "data.isna().sum().sum()"
   ]
  },
  {
   "cell_type": "markdown",
   "metadata": {},
   "source": [
    "#### Extracting new features"
   ]
  },
  {
   "cell_type": "code",
   "execution_count": 55,
   "metadata": {},
   "outputs": [],
   "source": [
    "# Function to calculate w_ratio\n",
    "def calculate_result_ratio(row, result):\n",
    "    # Filter rows with the same type and lower number\n",
    "    relevant_rows = data[(data[\"home_team_api_id\"] == row[\"home_team_api_id\"]) & (data[\"date\"] < row[\"date\"])]\n",
    "    \n",
    "    if len(relevant_rows) == 0:\n",
    "        return row[\"match_result\"] == result\n",
    "    else:\n",
    "        count = len(relevant_rows[relevant_rows[\"match_result\"] == result])\n",
    "        total_count = len(relevant_rows)\n",
    "        return count / total_count\n",
    "\n",
    "# Apply function to each row\n",
    "data['home_team_win_ratio'] = data.apply(lambda row: calculate_result_ratio(row, \"Win\"), axis=1)"
   ]
  },
  {
   "cell_type": "markdown",
   "metadata": {},
   "source": [
    "Discretizing data using quantiles for naive bayes"
   ]
  },
  {
   "cell_type": "code",
   "execution_count": null,
   "metadata": {},
   "outputs": [],
   "source": [
    "def discretize_quantiles(df, num_bins=5):\n",
    "    discretized_df = df.copy()\n",
    "    numerical_cols = df.select_dtypes(include=[np.number]).columns\n",
    "    numerical_cols.remove(\"date\")\n",
    "    \n",
    "    for col in numerical_cols:\n",
    "        discretized_df[col] = pd.qcut(df[col], num_bins, labels=False, duplicates=\"drop\")\n",
    "        \n",
    "    return discretized_df\n",
    "\n",
    "discretized_data = discretize_quantiles(data, num_bins=10)\n",
    "discretized_data.head()"
   ]
  },
  {
   "cell_type": "code",
   "execution_count": null,
   "metadata": {},
   "outputs": [],
   "source": [
    "columns_to_drop = [col for col in data.columns if 'id' in col or 'name' in col or \"date\" in col]\n",
    "\n",
    "data = data.drop(columns=columns_to_drop)\n",
    "discretized_data = discretized_data.drop(columns=columns_to_drop)\n",
    "\n",
    "data.shape"
   ]
  },
  {
   "cell_type": "markdown",
   "metadata": {},
   "source": [
    "### Part d)"
   ]
  },
  {
   "cell_type": "code",
   "execution_count": null,
   "metadata": {},
   "outputs": [],
   "source": [
    "from sklearn.preprocessing import LabelEncoder\n",
    "\n",
    "le = LabelEncoder()\n",
    "encoded_data = data.copy()\n",
    "encoded_discretized_data = discretized_data.copy()\n",
    "\n",
    "for column in encoded_data.columns:\n",
    "    if encoded_data[column].dtype == 'object':\n",
    "\n",
    "        encoded_data[column] = le.fit_transform(encoded_data[column])\n",
    "        encoded_discretized_data[column] = le.fit_transform(encoded_data[column])\n"
   ]
  },
  {
   "cell_type": "code",
   "execution_count": null,
   "metadata": {},
   "outputs": [],
   "source": [
    "# Select the row with the max value for a season column as test data\n",
    "max_value = encoded_data[\"season\"].max()\n",
    "test_data = encoded_data[encoded_data[\"season\"] == max_value]\n",
    "test_data_discretized = encoded_discretized_data[encoded_discretized_data[\"season\"] == max_value]\n",
    "\n",
    "# Selecting the remaining rows as train data\n",
    "train_data = encoded_data[encoded_data[\"season\"] != max_value]\n",
    "train_data_discretized = encoded_discretized_data[encoded_discretized_data[\"season\"] != max_value]"
   ]
  },
  {
   "cell_type": "code",
   "execution_count": null,
   "metadata": {},
   "outputs": [],
   "source": [
    "X_train, y_train = train_data.drop(columns=\"match_result\"), train_data[\"match_result\"]\n",
    "X_test, y_test = test_data.drop(columns=\"match_result\"), test_data[\"match_result\"]\n",
    "\n",
    "X_train_gnb, y_train_gnb = train_data_discretized.drop(columns=\"match_result\"), train_data_discretized[\"match_result\"]\n",
    "X_test_gnb, y_test_gnb = test_data_discretized.drop(columns=\"match_result\"), test_data_discretized[\"match_result\"]"
   ]
  },
  {
   "cell_type": "code",
   "execution_count": null,
   "metadata": {},
   "outputs": [],
   "source": [
    "fig, axes = plt.subplots(1, 3, figsize=(12, 4))\n",
    "\n",
    "# Plotting histograms\n",
    "sns.histplot(data=encoded_data[\"match_result\"], ax=axes[0])\n",
    "sns.histplot(data=y_train, ax=axes[1])\n",
    "sns.histplot(data=y_test, ax=axes[2])\n",
    "\n",
    "# Setting plot titles\n",
    "axes[0].set_title('Dataset Match Result Freq.')\n",
    "axes[1].set_title('Train Data Match Result Freq.')\n",
    "axes[2].set_title('Test Data Match Result Freq.')\n",
    "\n",
    "# Adjusting spacing between subplots\n",
    "plt.tight_layout()\n",
    "\n",
    "# Displaying the plot\n",
    "plt.show()"
   ]
  },
  {
   "cell_type": "markdown",
   "metadata": {},
   "source": [
    "### Part e)"
   ]
  },
  {
   "cell_type": "code",
   "execution_count": null,
   "metadata": {},
   "outputs": [],
   "source": [
    "# Naive Bayes\n",
    "naive_bayes = GaussianNB()\n",
    "naive_bayes.fit(X_train_gnb, y_train_gnb)\n",
    "\n",
    "nb_predictions = naive_bayes.predict(X_test_gnb)\n",
    "\n",
    "nb_accuracy = accuracy_score(y_true=y_test_gnb, y_pred=nb_predictions)\n",
    "print(f\"Naive Bayes Accuracy: {nb_accuracy*100: .2f}%\")"
   ]
  },
  {
   "cell_type": "code",
   "execution_count": null,
   "metadata": {},
   "outputs": [],
   "source": [
    "# Logistic Regression\n",
    "logistic_regression = LogisticRegression(penalty=\"l1\", max_iter=100000, solver=\"liblinear\")\n",
    "logistic_regression.fit(X_train, y_train)\n",
    "\n",
    "lr_predictions = logistic_regression.predict(X_test)\n",
    "\n",
    "lr_accuracy = accuracy_score(y_test, lr_predictions)\n",
    "print(f\"Logistic Regression Accuracy: {lr_accuracy*100: .2f}%\")"
   ]
  },
  {
   "cell_type": "markdown",
   "metadata": {},
   "source": [
    "### Part f)"
   ]
  },
  {
   "cell_type": "code",
   "execution_count": null,
   "metadata": {},
   "outputs": [],
   "source": [
    "X = encoded_discretized_data.drop(columns=[\"match_result\"])\n",
    "y = encoded_discretized_data[\"match_result\"]\n",
    "\n",
    "# Step 1: Create an instance of the OneHotEncoder\n",
    "encoder = OneHotEncoder()\n",
    "\n",
    "# Step 2: Fit and transform the data\n",
    "X_encoded = encoder.fit_transform(X)\n",
    "\n",
    "# Step 3: Convert the encoded data to a dense array\n",
    "X_encoded = X_encoded.toarray()\n",
    "\n",
    "# Step 2: Split the dataset into train and test sets\n",
    "X_train, X_test, y_train, y_test = train_test_split(X_encoded, y, test_size=0.2, random_state=42)\n",
    "\n",
    "# Step 3: Perform one-hot encoding on the target variable\n",
    "encoder = LabelBinarizer()\n",
    "y_train_encoded = encoder.fit_transform(y_train)\n",
    "\n",
    "# Step 4: Train the one-vs-all classifier using logistic regression\n",
    "classifier = OneVsRestClassifier(BernoulliNB())\n",
    "classifier.fit(X_train, y_train_encoded)\n",
    "\n",
    "# Step 5: Make predictions on the test set\n",
    "y_pred_encoded = classifier.predict(X_test)\n",
    "\n",
    "# Step 6: Decode the predicted labels\n",
    "y_pred = encoder.inverse_transform(y_pred_encoded)\n",
    "\n",
    "# Step 7: Calculate the accuracy of the predicted labels\n",
    "bernoulli_accuracy = accuracy_score(y_test, y_pred)\n",
    "print(f\"Bernoulli Naive Bayes Accuracy: {bernoulli_accuracy*100: .2f}%\")"
   ]
  },
  {
   "cell_type": "code",
   "execution_count": null,
   "metadata": {},
   "outputs": [],
   "source": [
    "X = encoded_discretized_data.drop(columns=\"match_result\")\n",
    "y = encoded_discretized_data[\"match_result\"]\n",
    "\n",
    "# Step 2: Split the dataset into train and test sets\n",
    "X_train, X_test, y_train, y_test = train_test_split(X_encoded, y, test_size=0.2, random_state=42)\n",
    "\n",
    "# Step 3: Train the Multinomial Naive Bayes classifier\n",
    "classifier = MultinomialNB()\n",
    "classifier.fit(X_train, y_train)\n",
    "\n",
    "# Step 4: Make predictions on the test set\n",
    "y_pred = classifier.predict(X_test)\n",
    "\n",
    "# Step 5: Calculate the accuracy of the predicted labels\n",
    "multinomial_accuracy = accuracy_score(y_test, y_pred)\n",
    "print(f\"Multinomial Naive Bayes Accuracy: {multinomial_accuracy*100: .2f}%\")"
   ]
  }
 ],
 "metadata": {
  "kernelspec": {
   "display_name": "base",
   "language": "python",
   "name": "python3"
  },
  "language_info": {
   "codemirror_mode": {
    "name": "ipython",
    "version": 3
   },
   "file_extension": ".py",
   "mimetype": "text/x-python",
   "name": "python",
   "nbconvert_exporter": "python",
   "pygments_lexer": "ipython3",
   "version": "3.11.5"
  }
 },
 "nbformat": 4,
 "nbformat_minor": 2
}
