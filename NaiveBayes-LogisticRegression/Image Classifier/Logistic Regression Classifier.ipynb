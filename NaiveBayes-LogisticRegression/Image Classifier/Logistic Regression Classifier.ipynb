{
 "cells": [
  {
   "cell_type": "markdown",
   "metadata": {},
   "source": [
    "# Image Classification for Room Cleanliness Using Logistic Regression\n",
    "### Daniyal Mehraeen"
   ]
  },
  {
   "cell_type": "markdown",
   "metadata": {},
   "source": [
    "### Part a)"
   ]
  },
  {
   "cell_type": "code",
   "execution_count": 1,
   "metadata": {},
   "outputs": [
    {
     "name": "stdout",
     "output_type": "stream",
     "text": [
      "Defaulting to user installation because normal site-packages is not writeable\n",
      "Requirement already satisfied: opencv-python in c:\\users\\mehra\\appdata\\roaming\\python\\python311\\site-packages (4.8.1.78)\n",
      "Requirement already satisfied: numpy>=1.21.2 in c:\\programdata\\anaconda3\\lib\\site-packages (from opencv-python) (1.24.3)\n"
     ]
    }
   ],
   "source": [
    "! pip install opencv-python\n",
    "\n",
    "import cv2\n",
    "import pandas as pd\n",
    "import os\n",
    "import numpy as np\n",
    "\n",
    "pd.plotting.register_matplotlib_converters()\n",
    "import matplotlib.pyplot as plt\n",
    "import seaborn as sns\n",
    "%matplotlib inline\n",
    "\n",
    "from sklearn.linear_model import LogisticRegression\n",
    "from sklearn.model_selection import train_test_split\n",
    "from sklearn.metrics import confusion_matrix, ConfusionMatrixDisplay\n",
    "from sklearn.metrics import accuracy_score, precision_score, recall_score, f1_score"
   ]
  },
  {
   "cell_type": "code",
   "execution_count": 2,
   "metadata": {},
   "outputs": [],
   "source": [
    "def resize_images(path, target_size):\n",
    "    \n",
    "    features = []\n",
    "    labels = []\n",
    "    \n",
    "    for dir in os.listdir(path):\n",
    "        images_path = os.path.join(path, dir)\n",
    "        image_class = dir\n",
    "\n",
    "        image_files = [f for f in os.listdir(images_path) if f.endswith(('.jpg', '.jpeg', '.png'))]\n",
    "        for image_file in image_files:\n",
    "            # Read the image using OpenCV\n",
    "            image = cv2.imread(os.path.join(images_path, image_file))\n",
    "            if image is not None:\n",
    "                # Resize the image to the target size\n",
    "                resized_image = cv2.resize(image, target_size)\n",
    "\n",
    "                # Normalize the image\n",
    "                normalized_image = resized_image.astype(np.float32) / 255.0\n",
    "\n",
    "                # Flatten the image into a feature vector\n",
    "                feature_vector = normalized_image.flatten()\n",
    "\n",
    "                features.append(feature_vector)\n",
    "                labels.append(int(image_class==\"clean\")) # class 0 is messy & class 1 is clean\n",
    "\n",
    "    return np.array(features), np.array(labels)\n",
    "\n",
    "\n",
    "path_to_images = \"./data\"\n",
    "target_size = (256, 256)\n",
    "\n",
    "X, y = resize_images(path_to_images, target_size)"
   ]
  },
  {
   "cell_type": "markdown",
   "metadata": {},
   "source": [
    "### Part b)"
   ]
  },
  {
   "cell_type": "code",
   "execution_count": 3,
   "metadata": {},
   "outputs": [
    {
     "name": "stdout",
     "output_type": "stream",
     "text": [
      "(190, 196608) (22, 196608)\n"
     ]
    }
   ],
   "source": [
    "X_train, X_test, y_train, y_test = train_test_split(X, y, test_size=0.1, random_state=42, shuffle=True)\n",
    "print(X_train.shape, X_test.shape)"
   ]
  },
  {
   "cell_type": "markdown",
   "metadata": {},
   "source": [
    "### Part c)"
   ]
  },
  {
   "cell_type": "code",
   "execution_count": 4,
   "metadata": {},
   "outputs": [
    {
     "name": "stdout",
     "output_type": "stream",
     "text": [
      "Training the model [  0.06% ]"
     ]
    },
    {
     "name": "stderr",
     "output_type": "stream",
     "text": [
      "C:\\Users\\mehra\\AppData\\Local\\Temp\\ipykernel_55392\\2941105791.py:2: RuntimeWarning: overflow encountered in exp\n",
      "  return 1 / (1 + np.exp(-z))\n"
     ]
    },
    {
     "name": "stdout",
     "output_type": "stream",
     "text": [
      "Training Completed [  100.00% ]\n"
     ]
    }
   ],
   "source": [
    "def sigmoid(z):\n",
    "    return 1 / (1 + np.exp(-z))\n",
    "\n",
    "def loss(h, y):\n",
    "    return (-y * np.log(h) - (1 - y) * np.log(1 - h)).mean()\n",
    "\n",
    "def fit(X, y, learning_rate, num_iter):\n",
    "    intercept = np.ones((X.shape[0], 1))\n",
    "    X = np.concatenate((intercept, X), axis=1)\n",
    "\n",
    "    theta = np.zeros(X.shape[1])\n",
    "    \n",
    "    for i in range(num_iter):\n",
    "\n",
    "        print(f\"\\rTraining the model [ {((i+1)/num_iter)*100: .2f}% ]\", end=\"\")\n",
    "\n",
    "        z = np.dot(X, theta)\n",
    "        h = sigmoid(z)\n",
    "        gradient = np.dot(X.T, (h - y)) / y.size\n",
    "        theta -= learning_rate * gradient\n",
    "        \n",
    "\n",
    "    print(\"\\rTraining Completed\")\n",
    "\n",
    "    return theta\n",
    "\n",
    "\n",
    "def predict_prob(X, theta):\n",
    "    intercept = np.ones((X.shape[0], 1))\n",
    "    X = np.concatenate((intercept, X), axis=1)\n",
    "    return sigmoid(np.dot(X, theta))\n",
    "\n",
    "def predict(X, theta, threshold):\n",
    "    return predict_prob(X, theta) >= threshold\n",
    "\n",
    "theta = fit(X_train, y_train, learning_rate=0.1, num_iter=15000)\n"
   ]
  },
  {
   "cell_type": "code",
   "execution_count": 5,
   "metadata": {},
   "outputs": [],
   "source": [
    "preds = predict(X_test, theta, 0.5)\n",
    "probs = predict_prob(X_test,theta)"
   ]
  },
  {
   "cell_type": "code",
   "execution_count": 6,
   "metadata": {},
   "outputs": [
    {
     "name": "stdout",
     "output_type": "stream",
     "text": [
      "Implemented Logistic Regression Accuracy: 63.63636363636363%\n"
     ]
    }
   ],
   "source": [
    "accuracy = accuracy_score(y_pred=preds, y_true=y_test)\n",
    "print(f\"Implemented Logistic Regression Accuracy: {accuracy*100}%\")"
   ]
  },
  {
   "cell_type": "code",
   "execution_count": 7,
   "metadata": {},
   "outputs": [
    {
     "name": "stdout",
     "output_type": "stream",
     "text": [
      "sklearn Logistic Regression Accuracy:  68.18%\n"
     ]
    }
   ],
   "source": [
    "classifier = LogisticRegression(max_iter=15000)\n",
    "\n",
    "classifier.fit(X_train, y_train)\n",
    "\n",
    "y_pred_prob = classifier.predict_proba(X_test)[:, 1]\n",
    "\n",
    "threshold = 0.5 \n",
    "y_pred = (y_pred_prob >= threshold).astype(int)\n",
    "\n",
    "accuracy = accuracy_score(y_test, y_pred)\n",
    "print(f\"sklearn Logistic Regression Accuracy: {accuracy*100: .2f}%\")"
   ]
  },
  {
   "cell_type": "markdown",
   "metadata": {},
   "source": [
    "### Part d)"
   ]
  },
  {
   "cell_type": "code",
   "execution_count": 8,
   "metadata": {},
   "outputs": [
    {
     "name": "stdout",
     "output_type": "stream",
     "text": [
      "Evaluating [  100.00% ]\n",
      "Best Implemented Logistic Regression Accuracy:  68.1818% with threshold = 0.995995995995996\n",
      "Best sklearn Logistic Regression Accuracy:  72.7273% with threshold = 0.007007007007007007%\n"
     ]
    }
   ],
   "source": [
    "num_thresholds = 1000\n",
    "thresholds = np.linspace(0, 1, num_thresholds)\n",
    "\n",
    "best_im_thresh = 0\n",
    "best_im_acc = 0\n",
    "\n",
    "best_sk_thresh = 0\n",
    "best_sk_acc = 0\n",
    "\n",
    "for idx, thresh in enumerate(thresholds):\n",
    "    print(f\"\\rEvaluating [ {((idx+1)*100 / num_thresholds): .2f}% ]\", end=\"\")\n",
    "\n",
    "    im_preds = predict(X_test, theta, thresh)\n",
    "    \n",
    "    sk_probs = classifier.predict_proba(X_test)[:, 1]\n",
    "    sk_preds = (sk_probs >= thresh).astype(int)\n",
    "\n",
    "    im_accuracy = accuracy_score(y_pred=im_preds, y_true=y_test)\n",
    "    sk_accuracy = accuracy_score(y_pred=sk_preds, y_true=y_test)\n",
    "\n",
    "    if im_accuracy > best_im_acc:\n",
    "        best_im_acc = im_accuracy\n",
    "        best_im_thresh = thresh\n",
    "    \n",
    "    if sk_accuracy > best_sk_acc:\n",
    "        best_sk_acc = sk_accuracy\n",
    "        best_sk_thresh = thresh\n",
    "    \n",
    "print()\n",
    "print(f\"Best Implemented Logistic Regression Accuracy: {best_im_acc*100: .4f}% with threshold = {best_im_thresh}\")\n",
    "print(f\"Best sklearn Logistic Regression Accuracy: {best_sk_acc*100: .4f}% with threshold = {best_sk_thresh}%\")"
   ]
  },
  {
   "cell_type": "code",
   "execution_count": 9,
   "metadata": {},
   "outputs": [],
   "source": [
    "im_preds = predict(X_test, theta, best_im_thresh)\n",
    "    \n",
    "sk_probs = classifier.predict_proba(X_test)[:, 1]\n",
    "sk_preds = (sk_probs >= best_sk_thresh).astype(int)\n",
    "\n",
    "im_confusion_mat = confusion_matrix(y_pred=im_preds, y_true=y_test)\n",
    "sk_confusion_mat = confusion_matrix(y_pred=sk_preds, y_true=y_test)"
   ]
  },
  {
   "cell_type": "code",
   "execution_count": 10,
   "metadata": {},
   "outputs": [
    {
     "data": {
      "image/png": "[encoded data removed]",
      "text/plain": [
       "<Figure size 640x480 with 2 Axes>"
      ]
     },
     "metadata": {},
     "output_type": "display_data"
    }
   ],
   "source": [
    "disp = ConfusionMatrixDisplay(confusion_matrix=im_confusion_mat, display_labels=[0,1])\n",
    "\n",
    "disp.plot()\n",
    "plt.title(\"Implemented Model Confusion Matrix\")\n",
    "plt.show()"
   ]
  },
  {
   "cell_type": "code",
   "execution_count": 11,
   "metadata": {},
   "outputs": [
    {
     "data": {
      "image/png": "[encoded data removed]",
      "text/plain": [
       "<Figure size 640x480 with 2 Axes>"
      ]
     },
     "metadata": {},
     "output_type": "display_data"
    }
   ],
   "source": [
    "disp = ConfusionMatrixDisplay(confusion_matrix=sk_confusion_mat, display_labels=[0,1])\n",
    "\n",
    "disp.plot()\n",
    "plt.title(\"sk-learn Model Confusion Matrix\")\n",
    "plt.show()"
   ]
  },
  {
   "cell_type": "markdown",
   "metadata": {},
   "source": [
    "### Part e)"
   ]
  },
  {
   "cell_type": "code",
   "execution_count": 12,
   "metadata": {},
   "outputs": [],
   "source": [
    "def resize_images(images_path, target_size):\n",
    "    \n",
    "    features = []\n",
    "\n",
    "    image_files = [f for f in os.listdir(images_path) if f.endswith(('.jpg', '.jpeg', '.png'))]\n",
    "    for image_file in image_files:\n",
    "        # Read the image using OpenCV\n",
    "        image = cv2.imread(os.path.join(images_path, image_file))\n",
    "        if image is not None:\n",
    "            # Resize the image to the target size\n",
    "            resized_image = cv2.resize(image, target_size)\n",
    "\n",
    "            # Normalize the image\n",
    "            normalized_image = resized_image.astype(np.float32) / 255.0\n",
    "\n",
    "            # Flatten the image into a feature vector\n",
    "            feature_vector = normalized_image.flatten()\n",
    "\n",
    "            features.append(feature_vector)\n",
    "\n",
    "    return np.array(features)\n",
    "\n",
    "\n",
    "path_to_images = \"./test\"\n",
    "target_size = (256, 256)\n",
    "\n",
    "X = resize_images(path_to_images, target_size)"
   ]
  },
  {
   "cell_type": "code",
   "execution_count": 13,
   "metadata": {},
   "outputs": [
    {
     "name": "stdout",
     "output_type": "stream",
     "text": [
      "['messy', 'clean', 'messy', 'clean', 'clean', 'clean', 'clean', 'clean', 'clean', 'clean']\n"
     ]
    }
   ],
   "source": [
    "y_pred_unknown_data = predict(X, theta, best_im_thresh)\n",
    "\n",
    "# False is messy and True is clean\n",
    "pred_label = [\"clean\" if item else \"messy\" for item in y_pred_unknown_data]\n",
    "print(pred_label)"
   ]
  },
  {
   "cell_type": "code",
   "execution_count": 14,
   "metadata": {},
   "outputs": [],
   "source": [
    "true_label = [\"clean\", \"clean\", \"messy\", \"clean\", \"messy\", \"messy\", \"clean\", \"messy\", \"messy\", \"clean\"]"
   ]
  },
  {
   "cell_type": "code",
   "execution_count": 15,
   "metadata": {},
   "outputs": [
    {
     "name": "stdout",
     "output_type": "stream",
     "text": [
      "Implemented Logistic Regression Accuracy on the Unknown Data: 50.0%\n"
     ]
    }
   ],
   "source": [
    "accuracy = accuracy_score(y_pred=pred_label, y_true=true_label)\n",
    "print(f\"Implemented Logistic Regression Accuracy on the Unknown Data: {accuracy*100}%\")"
   ]
  }
 ],
 "metadata": {
  "kernelspec": {
   "display_name": "base",
   "language": "python",
   "name": "python3"
  },
  "language_info": {
   "codemirror_mode": {
    "name": "ipython",
    "version": 3
   },
   "file_extension": ".py",
   "mimetype": "text/x-python",
   "name": "python",
   "nbconvert_exporter": "python",
   "pygments_lexer": "ipython3",
   "version": "3.11.5"
  }
 },
 "nbformat": 4,
 "nbformat_minor": 2
}
